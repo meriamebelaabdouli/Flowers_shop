{
 "cells": [
  {
   "cell_type": "code",
   "execution_count": 1,
   "metadata": {},
   "outputs": [
    {
     "name": "stdout",
     "output_type": "stream",
     "text": [
      "Score: 1.0\n"
     ]
    }
   ],
   "source": [
    "import csv\n",
    "import random\n",
    "import numpy as np\n",
    "from sklearn import svm\n",
    "from sklearn.metrics import accuracy_score\n",
    "\n",
    "# Fonction pour générer des données aléatoires\n",
    "def generate_random_data(num_samples):\n",
    "    data = []\n",
    "    labels = []\n",
    "    \n",
    "    for _ in range(num_samples):\n",
    "        class_label = random.randint(0, 2)\n",
    "        parameters = [random.uniform(class_label, class_label + 1) for _ in range(4)]\n",
    "        \n",
    "        data.append(parameters)\n",
    "        labels.append(class_label)\n",
    "    \n",
    "    return np.array(data), np.array(labels)\n",
    "\n",
    "# Générer des données aléatoires\n",
    "X, y = generate_random_data(100)\n",
    "\n",
    "# Créer un classifieur SVM\n",
    "clf = svm.SVC()\n",
    "\n",
    "# Entraîner le classifieur\n",
    "clf.fit(X, y)\n",
    "\n",
    "# Prédire les étiquettes pour les mêmes données d'entraînement\n",
    "predictions = clf.predict(X)\n",
    "\n",
    "# Calculer le score (précision)\n",
    "score = accuracy_score(y, predictions)\n",
    "print(\"Score:\", score)\n"
   ]
  }
 ],
 "metadata": {
  "kernelspec": {
   "display_name": "Python 3",
   "language": "python",
   "name": "python3"
  },
  "language_info": {
   "codemirror_mode": {
    "name": "ipython",
    "version": 3
   },
   "file_extension": ".py",
   "mimetype": "text/x-python",
   "name": "python",
   "nbconvert_exporter": "python",
   "pygments_lexer": "ipython3",
   "version": "3.11.3"
  },
  "orig_nbformat": 4
 },
 "nbformat": 4,
 "nbformat_minor": 2
}
